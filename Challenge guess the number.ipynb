{
 "cells": [
  {
   "cell_type": "code",
   "execution_count": 2,
   "metadata": {},
   "outputs": [
    {
     "name": "stdout",
     "output_type": "stream",
     "text": [
      "how many games would you like to play ?5\n",
      "Game 1\n",
      "Enter value between 1 to 251\n",
      "Game number is 1\n",
      "Game 2\n",
      "Enter value between 1 to 252\n",
      "Game number is 2\n",
      "Game 3\n",
      "Enter value between 1 to 253\n",
      "Game number is 3\n",
      "Game 4\n",
      "Enter value between 1 to 254\n",
      "Game number is 4\n",
      "Game 5\n",
      "Enter value between 1 to 255\n",
      "Game number is 5\n",
      "Congratualtion you won the game\n"
     ]
    }
   ],
   "source": [
    "#Ask the user to get how many number of games that user would like to play.\n",
    "\n",
    "class Game():\n",
    "    \n",
    "    def start(self):\n",
    "        self.number_of_games = int(input(\"how many games would you like to play ?\"));\n",
    "        if(self.number_of_games<0):\n",
    "            self.start();\n",
    "        else:            \n",
    "            self.playgame(self.number_of_games);        \n",
    "        \n",
    "    def playgame(self,number_of_games):\n",
    "        number = 1;\n",
    "        while number_of_games>0 :\n",
    "            print(f\"Game {number}\")\n",
    "            game_number = self.checkGame();  \n",
    "            print(\"Game number is {}\".format(game_number))\n",
    "            number_of_games = number_of_games-1;\n",
    "            number = number+1;\n",
    "        \n",
    "        print(\"Congratualtion you won the game\");\n",
    "            \n",
    "    def checkGame(self):      \n",
    "            game_number  = int(input(\"Enter value between 1 to 25\"));\n",
    "            if(game_number<1 or game_number>25):\n",
    "                print(\"Please enter valid number between 1 to 25\")\n",
    "                self.checkGame(); \n",
    "            \n",
    "            return game_number;\n",
    "                \n",
    "                \n",
    "mygame = Game();\n",
    "mygame.start()"
   ]
  }
 ],
 "metadata": {
  "kernelspec": {
   "display_name": "Python 3",
   "language": "python",
   "name": "python3"
  },
  "language_info": {
   "codemirror_mode": {
    "name": "ipython",
    "version": 3
   },
   "file_extension": ".py",
   "mimetype": "text/x-python",
   "name": "python",
   "nbconvert_exporter": "python",
   "pygments_lexer": "ipython3",
   "version": "3.7.4"
  }
 },
 "nbformat": 4,
 "nbformat_minor": 2
}
